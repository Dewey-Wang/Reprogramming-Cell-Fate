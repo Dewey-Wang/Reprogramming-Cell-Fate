{
 "cells": [
  {
   "cell_type": "code",
   "execution_count": null,
   "id": "337ca41f-c2eb-4564-ab20-32e70554315d",
   "metadata": {},
   "outputs": [],
   "source": [
    "> umap_coordinate[index_first,]\n",
    "                         UMAP_1      UMAP_2\n",
    "AAACCCAGTCTGCAAT.1 -1.945719294  -4.7588469\n",
    "AAACGAACAAACCACT.1 -2.916227515  -7.2343625\n",
    "AAACGCTAGGTTGTTC.1 -1.101044736  -8.0549199\n",
    "AAACGCTCACTTGGCG.1  1.200278359  -7.6244355\n",
    "AAAGAACGTCAAAGAT.1 -5.235216048  -3.8823709\n",
    "AAAGAACGTCCTCAGG.1  0.335409331  -7.7905487\n",
    "AAAGAACTCACGGTCG.1 -1.507303076  -9.1639679\n",
    "AAAGGGCAGATAGTCA.1 -4.544316876  -1.0820799\n",
    "AAAGGGCGTCCCGCAA.1  0.323724884  -8.3256537\n",
    "AAAGTCCGTAACCCGC.1  2.502187778  11.6714565\n",
    "AAAGTGAAGACTTCCA.1  7.283345943  -9.0920687\n",
    "AAATGGACAGAAACCG.1 -1.484232802 -10.4634532\n",
    "AACAAGATCTGGTCAA.1 -2.884834803   7.6065917\n",
    "AACAGGGAGAGGCCAT.1 -0.317524467  -8.6082403"
   ]
  }
 ],
 "metadata": {
  "kernelspec": {
   "display_name": "R",
   "language": "R",
   "name": "ir"
  },
  "language_info": {
   "codemirror_mode": "r",
   "file_extension": ".r",
   "mimetype": "text/x-r-source",
   "name": "R",
   "pygments_lexer": "r",
   "version": "4.3.2"
  }
 },
 "nbformat": 4,
 "nbformat_minor": 5
}
